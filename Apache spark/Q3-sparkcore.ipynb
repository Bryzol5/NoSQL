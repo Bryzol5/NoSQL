{
 "cells": [
  {
   "attachments": {},
   "cell_type": "markdown",
   "metadata": {},
   "source": [
    "# SPBD 2022\n",
    "## Air Quality Monitoring (airborne particulate matter)\n",
    "-- version Nov 2 \n",
    " - draft version (incomplete dataset)\n",
    "\n",
    "\n",
    "\n",
    "\n",
    "The goal of this project is to analyze data provided by a set of air quality sensors [sds011](https://aqicn.org/sensor/sds011/pt/) belonging\n",
    "to a global sensor network spanning the globe, named [Sensor.Community](https://sensor.community/en/).\n",
    "\n",
    "While the data spans the globe, the sensors present in the dataset to be processed are limited to Portugal, France, Spain and Germany. Each sensor provides two values: measuring particles less than 10 µm (P1) and less than 2.5 µm (P2) in μg/m³.\n",
    "\n",
    "The sensor data is limited to 2020 and is organized in separate CSV files, stored in folders, one for each month and one file per day.\n",
    "\n",
    "\n",
    "Each CSV file has the following schema:\n",
    "\n",
    "sensor_id | sensor_type | latitude | longitude | timestamp | P1 | P2\n",
    "----------|-------------|----------|-----------|-----------|----|---\n",
    "string  | string | float | float| timestamp | float | float\n",
    "\n",
    "The root folder of the dataset can be downloaded from a [Google Drive folder](https://drive.google.com/drive/folders/1rJwbgPGf2ZNJ_nV-5hu2cq75N82mMQ2E?usp=share_link)\n",
    "\n",
    "(Note: Presently, the full dataset is still incomplete)\n",
    "\n",
    "A [secondary dataset](https://raw.githubusercontent.com/smduarte/spbd-2223/main/proj/sensors_all.json) in the form of a [JSON](https://www.w3schools.com/python/python_json.asp) is also provided. This data can be used\n",
    "to map a given sensor to is location, namely, the country and city where\n",
    "it resides.\n",
    "\n",
    "The goal of the assignment is to solve the following questions:\n",
    "\n",
    "### Q3 - Lockdown detection\n",
    "The full dataset covers periods of population confinements due to Covid 19. Can you find a statistical signal in the data showing air quality improvement coinciding with confinement periods in the countries covered by the data?\n",
    "\n",
    "**Requirement**: For this question, use a single framework of your choice, of those studied.\n",
    "\n",
    "## General Requeriments\n",
    "\n",
    "1. Each question should answered in a separate Colab notebook, ready to run. \n",
    "\n",
    "## Grading Criteria \n",
    "\n",
    "1. Small bonus marks will be given if some kind of graphical output is provided to present the results;\n",
    "2. Grading will also take into account the general clarity of the programming and of the presentation of each report (notebook).\n",
    "\n",
    "\n",
    "### Deadline\n",
    "\n",
    "21th December 2022, 23h59.\n",
    "\n",
    "For each day late, ***0.5 / day penalty***. Penalty accumulates until\n",
    "the grade of the assignment reaches 8.0."
   ]
  },
  {
   "cell_type": "code",
   "execution_count": 1,
   "metadata": {},
   "outputs": [
    {
     "name": "stdout",
     "output_type": "stream",
     "text": [
      "\n",
      "\u001b[1m[\u001b[0m\u001b[34;49mnotice\u001b[0m\u001b[1;39;49m]\u001b[0m\u001b[39;49m A new release of pip available: \u001b[0m\u001b[31;49m22.2.2\u001b[0m\u001b[39;49m -> \u001b[0m\u001b[32;49m22.3.1\u001b[0m\n",
      "\u001b[1m[\u001b[0m\u001b[34;49mnotice\u001b[0m\u001b[1;39;49m]\u001b[0m\u001b[39;49m To update, run: \u001b[0m\u001b[32;49mpip install --upgrade pip\u001b[0m\n"
     ]
    },
    {
     "data": {
      "text/plain": [
       "'/Users/mgajek/Desktop/Nova 2022/SPBD/Practica/.sistemas_para_big_data/lib/python3.10/site-packages/pyspark'"
      ]
     },
     "execution_count": 1,
     "metadata": {},
     "output_type": "execute_result"
    }
   ],
   "source": [
    "# @title Install PySpark\n",
    "!pip install pyspark findspark --quiet\n",
    "import findspark\n",
    "\n",
    "findspark.init()\n",
    "findspark.find()"
   ]
  },
  {
   "cell_type": "code",
   "execution_count": 23,
   "metadata": {},
   "outputs": [
    {
     "name": "stdout",
     "output_type": "stream",
     "text": [
      "reading: day 15, day 16, day 17, day 18, day 19, day 20, day 21, day 22, day 23, day 24, day 25, day 26, day 27, day 28, day 29, day 30, No file with name 2020-02/sds011-2020-02-30.csv\n",
      "day 31, No file with name 2020-02/sds011-2020-02-31.csv\n",
      "writing final file\n",
      "reading: day 1, day 2, day 3, day 4, day 5, day 6, day 7, day 8, day 9, day 10, day 11, day 12, day 13, day 14, day 15, day 16, day 17, day 18, day 19, day 20, day 21, day 22, day 23, day 24, day 25, day 26, day 27, day 28, day 29, No file for day 29, day 30, day 31, writing final file\n",
      "reading: day 1, day 2, day 3, day 4, day 5, day 6, day 7, day 8, day 9, "
     ]
    },
    {
     "name": "stderr",
     "output_type": "stream",
     "text": [
      "/var/folders/5h/wgsr81414ml0pn7tnjhskzk80000gn/T/ipykernel_5634/2304991384.py:42: DtypeWarning: Columns (5,6) have mixed types. Specify dtype option on import or set low_memory=False.\n",
      "  new_df = pd.read_csv(filename, sep=';', header=None)\n"
     ]
    },
    {
     "name": "stdout",
     "output_type": "stream",
     "text": [
      "day 10, "
     ]
    },
    {
     "name": "stderr",
     "output_type": "stream",
     "text": [
      "/var/folders/5h/wgsr81414ml0pn7tnjhskzk80000gn/T/ipykernel_5634/2304991384.py:42: DtypeWarning: Columns (5,6) have mixed types. Specify dtype option on import or set low_memory=False.\n",
      "  new_df = pd.read_csv(filename, sep=';', header=None)\n"
     ]
    },
    {
     "name": "stdout",
     "output_type": "stream",
     "text": [
      "day 11, No file with name 2020-04/sds011-2020-04-11.csv\n",
      "day 12, No file with name 2020-04/sds011-2020-04-12.csv\n",
      "day 13, No file with name 2020-04/sds011-2020-04-13.csv\n",
      "day 14, No file with name 2020-04/sds011-2020-04-14.csv\n",
      "day 15, No file with name 2020-04/sds011-2020-04-15.csv\n",
      "day 16, No file with name 2020-04/sds011-2020-04-16.csv\n",
      "day 17, No file with name 2020-04/sds011-2020-04-17.csv\n",
      "day 18, No file with name 2020-04/sds011-2020-04-18.csv\n",
      "day 19, No file with name 2020-04/sds011-2020-04-19.csv\n",
      "day 20, No file with name 2020-04/sds011-2020-04-20.csv\n",
      "day 21, No file with name 2020-04/sds011-2020-04-21.csv\n",
      "day 22, No file with name 2020-04/sds011-2020-04-22.csv\n",
      "day 23, No file with name 2020-04/sds011-2020-04-23.csv\n",
      "day 24, No file with name 2020-04/sds011-2020-04-24.csv\n",
      "day 25, No file with name 2020-04/sds011-2020-04-25.csv\n",
      "day 26, No file with name 2020-04/sds011-2020-04-26.csv\n",
      "day 27, No file with name 2020-04/sds011-2020-04-27.csv\n",
      "day 28, No file with name 2020-04/sds011-2020-04-28.csv\n",
      "day 29, No file with name 2020-04/sds011-2020-04-29.csv\n",
      "day 30, No file with name 2020-04/sds011-2020-04-30.csv\n",
      "day 31, No file with name 2020-04/sds011-2020-04-31.csv\n",
      "writing final file\n"
     ]
    },
    {
     "data": {
      "text/plain": [
       "(31338743, 7)"
      ]
     },
     "execution_count": 23,
     "metadata": {},
     "output_type": "execute_result"
    }
   ],
   "source": [
    "import pandas as pd\n",
    "\n",
    "df = pd.read_csv(\"2020-02/sds011-2020-02-14.csv\", sep=\";\", header=None)\n",
    "df.fillna(0, inplace=True)\n",
    "print(\"reading\", end=\": \")\n",
    "for day_number in range(15, 32):\n",
    "    try:\n",
    "        filename = f'2020-02/sds011-2020-02-{str(day_number).rjust(2, \"0\")}.csv'\n",
    "        print(f\"day {day_number}\", end=\", \")\n",
    "        new_df = pd.read_csv(filename, sep=\";\", header=None)\n",
    "        new_df.fillna(0, inplace=True)\n",
    "        df = pd.concat([df, new_df])\n",
    "    except FileNotFoundError:\n",
    "        print(f\"No file with name {filename}\")\n",
    "\n",
    "print(\"writing final file\")\n",
    "df.to_csv(\"combined_metrics.csv\", sep=\";\", index=False, header=False)\n",
    "df.shape\n",
    "\n",
    "df = pd.DataFrame()\n",
    "print(\"reading\", end=\": \")\n",
    "for day_number in range(1, 32):\n",
    "    try:\n",
    "        filename = f'2020-03/sds011-2020-03-{str(day_number).rjust(2, \"0\")}.csv'\n",
    "        print(f\"day {day_number}\", end=\", \")\n",
    "        new_df = pd.read_csv(filename, sep=\";\", header=None)\n",
    "        new_df.fillna(0, inplace=True)\n",
    "        df = pd.concat([df, new_df])\n",
    "    except FileNotFoundError:\n",
    "        print(f\"No file for day {day_number}\", end=\", \")\n",
    "\n",
    "print(\"writing final file\")\n",
    "df.to_csv(\"combined_metrics.csv\", sep=\";\", mode=\"a\", index=False, header=False)\n",
    "df.shape\n",
    "\n",
    "df = pd.DataFrame()\n",
    "print(\"reading\", end=\": \")\n",
    "for day_number in range(1, 32):\n",
    "    try:\n",
    "        filename = f'2020-04/sds011-2020-04-{str(day_number).rjust(2, \"0\")}.csv'\n",
    "        print(f\"day {day_number}\", end=\", \")\n",
    "        new_df = pd.read_csv(filename, sep=\";\", header=None)\n",
    "        new_df.fillna(0, inplace=True)\n",
    "        df = pd.concat([df, new_df])\n",
    "    except FileNotFoundError:\n",
    "        print(f\"No file for day {day_number}\", end=\", \")\n",
    "\n",
    "print(\"writing final file\")\n",
    "df.to_csv(\"combined_metrics.csv\", sep=\";\", mode=\"a\", index=False, header=False)\n",
    "df.shape"
   ]
  },
  {
   "cell_type": "code",
   "execution_count": 24,
   "metadata": {},
   "outputs": [
    {
     "name": "stdout",
     "output_type": "stream",
     "text": [
      " 187506332 combined_metrics.csv\n"
     ]
    }
   ],
   "source": [
    "!wc -l combined_metrics.csv"
   ]
  },
  {
   "cell_type": "code",
   "execution_count": 61,
   "metadata": {},
   "outputs": [
    {
     "name": "stderr",
     "output_type": "stream",
     "text": [
      "                                                                                \r"
     ]
    },
    {
     "name": "stdout",
     "output_type": "stream",
     "text": [
      "Most possible lockdown starts (most likely first):\n",
      "Germany:\n",
      "month 2, week 3 | month 3, week 4 | month 2, week 4 | month 4, week 2 | month 3, week 5 | \n",
      "Spain:\n",
      "month 3, week 4 | month 2, week 4 | month 3, week 5 | month 2, week 3 | month 3, week 2 | \n",
      "Poland:\n",
      "month 2, week 4 | month 4, week 2 | month 3, week 4 | month 3, week 2 | month 2, week 3 | \n",
      "Portugal:\n",
      "month 3, week 5 | month 2, week 3 | month 3, week 3 | month 3, week 4 | month 4, week 2 | \n",
      "France:\n",
      "month 2, week 4 | month 2, week 3 | month 3, week 4 | month 4, week 2 | month 2, week 2 | \n"
     ]
    }
   ],
   "source": [
    "import pyspark\n",
    "from operator import *\n",
    "import numpy as np\n",
    "import math\n",
    "import pandas as pd\n",
    "import json\n",
    "\n",
    "\n",
    "def windowOverTwoWeeks(input):\n",
    "    \"\"\"\n",
    "    input data in the format of:\n",
    "      (country, city, week_number) | max_P1_of_week\n",
    "    output will be a list of two elements with format of:\n",
    "      key: (country, city, week_number),     values: (week_number, max_P1_of_week)\n",
    "      key: (country, city, week_number + 1), values: (week_number, max_P1_of_week)\n",
    "    \"\"\"\n",
    "    week_number_max_P1 = (input[0][2], input[1])\n",
    "\n",
    "    return [\n",
    "        (input[0], week_number_max_P1),\n",
    "        ((input[0][0], input[0][1], input[0][2] + 1), week_number_max_P1),\n",
    "    ]\n",
    "\n",
    "\n",
    "def readLineValues(input):\n",
    "    \"\"\"\n",
    "    input data in format of:\n",
    "      >sensor_id< | sensor_type | latitude | longitude | >timestamp< | >P1< | P2\n",
    "    output in format of:\n",
    "      #sensor_id: str | (week_number: int, P1: float)\n",
    "    \"\"\"\n",
    "    sensor_id = input[0]\n",
    "    P1_measure = 0.0\n",
    "    try:\n",
    "        P1_measure = float(input[5])\n",
    "        if math.isnan(P1_measure) or math.isinf(P1_measure):\n",
    "            P1_measure = 0.0\n",
    "    except:\n",
    "        P1_measure = 0.0\n",
    "    week_number = (\n",
    "        int(input[4][5:7].lstrip(\"0\")) * 6 + int(input[4][8:10].lstrip(\"0\")) // 7\n",
    "    )\n",
    "\n",
    "    return sensor_id, (week_number, P1_measure)\n",
    "\n",
    "\n",
    "def printDateFromWeekNumber(week_number):\n",
    "    month = week_number // 6\n",
    "    week_in_month = week_number - 6 * month + 1\n",
    "    print(f\"month {month}, week {week_in_month}\", end=\" | \")\n",
    "\n",
    "\n",
    "sc = pyspark.SparkContext(\"local[*]\")\n",
    "try:\n",
    "    # We strip the file in order to be able to treat each line\n",
    "    sensor_data = sc.textFile(\"2020-0?/*.csv\").map(lambda line: line.strip())\n",
    "\n",
    "    # Split country in lines to get the values we need (sensor_id, country, city)\n",
    "    countries = (\n",
    "        sc.textFile(\"sensors_all.json\")\n",
    "        .map(lambda x: (json.loads(x)))\n",
    "        .flatMap(lambda x: x)\n",
    "        .map(lambda val: (val[\"sensor_id\"], (val[\"country\"], val[\"city\"])))\n",
    "    )\n",
    "    # Get the sensor's reading data to join with locations\n",
    "    sensors_over_week = (\n",
    "        sensor_data.map(lambda line: line.split(\";\")).filter(\n",
    "            lambda values: len(values) == 7\n",
    "        )\n",
    "        # >sensor_id< | sensor_type | latitude | longitude | >timestamp< | >P1< | P2\n",
    "        .map(readLineValues)\n",
    "    )\n",
    "\n",
    "    # Join sensor values with countries and cities\n",
    "    countries_sensors = sensors_over_week.join(countries)\n",
    "\n",
    "    # We compute the pairwise difference between weeks' maximum P1 rating\n",
    "    # sensor_id | ((week_number, P1), (country, city))\n",
    "    P1_weekly_diffs = (\n",
    "        countries_sensors.map(\n",
    "            lambda values: ((*values[1][1], values[1][0][0]), values[1][0][1])\n",
    "        )\n",
    "        # (country, city, week_number) | P1\n",
    "        .aggregateByKey(\n",
    "            (0.0, 0),\n",
    "            lambda acc, v: (acc[0] + v, acc[1] + 1),\n",
    "            lambda acc1, acc2: (acc1[0] + acc2[0], acc1[1] + acc2[1]),\n",
    "        )\n",
    "        # (country, city, week_number) | (P1_sum, number_of_sensors)\n",
    "        .mapValues(lambda val: val[0] / val[1])\n",
    "        # biggest readings in each city over a week\n",
    "        # (country, city, week_number) | average_P1_of_week)\n",
    "        .flatMap(windowOverTwoWeeks)\n",
    "        # (country, city, window_start_week_number) | (real_week_number, average_P1_of_week)\n",
    "        .reduceByKey(\n",
    "            lambda v1, v2: (v2[1] - v1[1]) / v1[1]\n",
    "            if v1[0] < v2[0] and v1[1] != 0\n",
    "            else (v1[1] - v2[1]) / v2[1]\n",
    "            if v2[1] != 0\n",
    "            else 0\n",
    "        )\n",
    "    )\n",
    "    # (country, city, window_start_week_number) | P1_relative_change_over_two_weeks\n",
    "\n",
    "    P1_diff_threshold = -0.55\n",
    "\n",
    "    possible_lockdown_weeks = (\n",
    "        P1_weekly_diffs.filter(lambda key_val: type(key_val[1]) is not tuple)\n",
    "        .map(\n",
    "            lambda key_val: (\n",
    "                (key_val[0][0], key_val[0][2]),\n",
    "                (1.0, 1) if key_val[1] < P1_diff_threshold else (0.0, 1),\n",
    "            )\n",
    "        )\n",
    "        # (country, window_start_week_number) | (P1_change_over_two_weeks < threshold, 1)\n",
    "        .reduceByKey(lambda v1, v2: (v1[0] + v2[0], v1[1] + v2[1]))\n",
    "        # (country, window_start_week_number) | (number of cities with P1 reduction in this week window, number of all cities)\n",
    "        .map(lambda key_val: (key_val[0], key_val[1][0] / key_val[1][1]))\n",
    "        .map(lambda key_val: (key_val[0][0], (key_val[0][1], key_val[1])))\n",
    "        # country | (window_start_week_number, ratio_of_agreeeing_results)\n",
    "        .groupByKey()\n",
    "        # country | [(as above), (as above) ...]\n",
    "        .mapValues(lambda vals: sorted(vals, key=lambda x: x[1], reverse=True))\n",
    "        .collect()\n",
    "    )\n",
    "\n",
    "    # We print the results\n",
    "    print(\"Most possible lockdown starts (most likely first):\")\n",
    "    for country, weeks in possible_lockdown_weeks:\n",
    "        print(f\"{country}:\")\n",
    "        for week, _ in weeks[:5]:\n",
    "            printDateFromWeekNumber(week)\n",
    "        print()\n",
    "\n",
    "    sc.stop()\n",
    "except Exception as e:\n",
    "    print(e)\n",
    "    sc.stop()"
   ]
  },
  {
   "attachments": {},
   "cell_type": "markdown",
   "metadata": {},
   "source": [
    "## Germany:\n",
    "From 13 March, German states mandated school and kindergarten closures, postponed academic semesters and prohibited visits to nursing homes to protect the elderly. Two days later, borders to Austria, Denmark, France, Luxembourg and Switzerland were closed. By <b>22 March</b>, curfews were imposed in six German states while other states prohibited physical contact with more than one person from outside one's household.\n",
    "\n",
    "## France:\n",
    "On 13 March 2020, the Prime Minister, Édouard Philippe announced the closure of all pubs, restaurants, cinemas and nightclubs.\n",
    "\n",
    "On 16 March 2020 (one day after the first round of the municipal elections), Emmanuel Macron announced the beginning of a lockdown period from <b>17 March 2020</b> at noon.\n",
    "\n",
    "## Spain:\n",
    "On 15 March the national lockdown due to the State of Alarm becomes effective.\n",
    "On <b>28 March</b>, the Spanish government banned all non-essential activity\n",
    "\n",
    "## Poland:\n",
    "On 10–12 March 2020 lockdown-type control measures were implemented\n",
    "On 24 March 2020 Poland's government announced further restrictions\n",
    "On <b>31 March</b> 2020 the prime minister announced that Poland would strengthen the restrictions\n",
    "\n",
    "## Portugal:\n",
    "On 18 March 2020 the President of Portugal, Marcelo Rebelo de Sousa, announced a State of Emergency to be brought in by the Portuguese Government. The State of Emergency legislation published on <b>20 March</b> brings into force a series of measures to limit the spread of the virus\n",
    "\n",
    "\n",
    "sources:\n",
    "- [https://www.gov.uk/government/news/portugal-coronavirus-covid-19-state-of-emergency]\n",
    "- [https://en.wikipedia.org/wiki/COVID-19_pandemic_in_Germany]\n",
    "- [https://en.wikipedia.org/wiki/COVID-19_pandemic_in_France]\n",
    "- [https://en.wikipedia.org/wiki/COVID-19_pandemic_in_Spain]\n",
    "- [https://en.wikipedia.org/wiki/COVID-19_pandemic_in_Poland]"
   ]
  },
  {
   "cell_type": "code",
   "execution_count": 62,
   "metadata": {},
   "outputs": [
    {
     "data": {
      "text/plain": [
       "<matplotlib.legend.Legend at 0x15fa1ba00>"
      ]
     },
     "execution_count": 62,
     "metadata": {},
     "output_type": "execute_result"
    },
    {
     "data": {
      "image/png": "[encoded data removed]",
      "text/plain": [
       "<Figure size 2000x1000 with 1 Axes>"
      ]
     },
     "metadata": {},
     "output_type": "display_data"
    }
   ],
   "source": [
    "import matplotlib.pyplot as plt\n",
    "\n",
    "fig, ax = plt.subplots(figsize=(20, 10))\n",
    "offsets = [-0.8, -0.4, 0.0, 0.4, 0.8]\n",
    "for (country, it), offset in zip(possible_lockdown_weeks, offsets):\n",
    "    it = sorted(it, key=lambda x: x[0])\n",
    "    weeks, diffs = zip(*it)\n",
    "    weeks = list(map(lambda x: f\"month {x // 6} week {x - 6*(x // 6) + 1}\", weeks))\n",
    "    xs = list(map(lambda x: x + offset, range(0, 3 * len(weeks), 3)))\n",
    "    ax.bar(xs, diffs, width=0.4, label=country)\n",
    "\n",
    "ax.set_title(\n",
    "    f\"Fraction of cities where the average realtive P1 difference over two weeks is lower than {P1_diff_threshold}\"\n",
    ")\n",
    "ax.set_xticks(range(0, 3 * len(weeks), 3), weeks)\n",
    "ax.legend()"
   ]
  }
 ],
 "metadata": {
  "kernelspec": {
   "display_name": ".sistemas_para_big_data",
   "language": "python",
   "name": "python3"
  },
  "language_info": {
   "codemirror_mode": {
    "name": "ipython",
    "version": 3
   },
   "file_extension": ".py",
   "mimetype": "text/x-python",
   "name": "python",
   "nbconvert_exporter": "python",
   "pygments_lexer": "ipython3",
   "version": "3.10.8"
  },
  "orig_nbformat": 4,
  "vscode": {
   "interpreter": {
    "hash": "7c558f5ee279dd017470d2c1f26ea6ea640d924de75f32ab88cddb9bdedb5ab7"
   }
  }
 },
 "nbformat": 4,
 "nbformat_minor": 2
}
